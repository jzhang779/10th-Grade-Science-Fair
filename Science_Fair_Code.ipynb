{
 "cells": [
  {
   "cell_type": "code",
   "execution_count": 1,
   "metadata": {
    "hide_input": false,
    "scrolled": true
   },
   "outputs": [
    {
     "data": {
      "text/html": [
       "<style>.container { width:100% !important; }</style>"
      ],
      "text/plain": [
       "<IPython.core.display.HTML object>"
      ]
     },
     "metadata": {},
     "output_type": "display_data"
    }
   ],
   "source": [
    "from models import *\n",
    "from utils import *\n",
    "\n",
    "import os, sys, time, datetime, random\n",
    "import torch\n",
    "import torchvision\n",
    "from torch.utils.data import DataLoader\n",
    "from torchvision import datasets, transforms\n",
    "from torch.autograd import Variable\n",
    "\n",
    "import matplotlib.pyplot as plt\n",
    "import matplotlib.patches as patches\n",
    "import numpy as np\n",
    "from PIL import Image\n",
    "\n",
    "from IPython.core.display import display, HTML\n",
    "display(HTML(\"<style>.container { width:100% !important; }</style>\"))\n",
    "\n",
    "import pickle"
   ]
  },
  {
   "cell_type": "code",
   "execution_count": 2,
   "metadata": {
    "hide_input": false,
    "scrolled": true
   },
   "outputs": [
    {
     "name": "stderr",
     "output_type": "stream",
     "text": [
      "/home/user/pytorch/lib/python3.8/site-packages/torch/nn/_reduction.py:44: UserWarning: size_average and reduce args will be deprecated, please use reduction='mean' instead.\n",
      "  warnings.warn(warning.format(ret))\n"
     ]
    }
   ],
   "source": [
    "config_path='config/yolov3.cfg'\n",
    "weights_path='config/yolov3.weights'\n",
    "class_path='config/coco.names'\n",
    "img_size=416\n",
    "conf_thres=0.8\n",
    "nms_thres=0.4\n",
    "\n",
    "# Load model and weights\n",
    "model = Darknet(config_path, img_size=img_size)\n",
    "model.load_weights(weights_path)\n",
    "model.cuda()\n",
    "model.eval()\n",
    "classes = utils.load_classes(class_path)\n",
    "Tensor = torch.cuda.FloatTensor"
   ]
  },
  {
   "cell_type": "code",
   "execution_count": 3,
   "metadata": {
    "code_folding": [
     0,
     19,
     117
    ]
   },
   "outputs": [],
   "source": [
    "def detect_image(img):\n",
    "    # scale and pad image\n",
    "    ratio = min(img_size/img.size[0], img_size/img.size[1])\n",
    "    imw = round(img.size[0] * ratio)\n",
    "    imh = round(img.size[1] * ratio)\n",
    "    img_transforms = transforms.Compose([ transforms.Resize((imh, imw)),\n",
    "         transforms.Pad((max(int((imh-imw)/2),0), max(int((imw-imh)/2),0), max(int((imh-imw)/2),0), max(int((imw-imh)/2),0)),\n",
    "                        (128,128,128)),\n",
    "         transforms.ToTensor(),\n",
    "         ])\n",
    "    # convert image to Tensor\n",
    "    image_tensor = img_transforms(img).float()\n",
    "    image_tensor = image_tensor.unsqueeze_(0)\n",
    "    input_img = Variable(image_tensor.type(Tensor))\n",
    "    # run inference on the model and get detections\n",
    "    with torch.no_grad():\n",
    "        detections = model(input_img)\n",
    "        detections = utils.non_max_suppression(detections, 80, conf_thres, nms_thres)\n",
    "    return detections[0]\n",
    "def get_data():\n",
    "    start_time = time.time()\n",
    "    cap = datasets.CocoCaptions(root = '/home/user/data/train2017',\n",
    "                            annFile = '/home/user/data/annotations/captions_train2017.json',\n",
    "                            transform=transforms.ToTensor())\n",
    "    print('Number of samples: ', len(cap))\n",
    "    print(\"Runtime: \", time.time() - start_time)\n",
    "    return cap\n",
    "def resize_image(image, re_type, *args, upsize = False, path = True):\n",
    "    if path:\n",
    "        img = Image.open(image)\n",
    "    else:\n",
    "        img = image\n",
    "    if re_type == 'Scale':\n",
    "        sf = args[0]\n",
    "        if not sf:\n",
    "            return img\n",
    "        width, height = img.size\n",
    "        if upsize:\n",
    "            img = img.resize((int(width / sf), int(height / sf)))\n",
    "            img = img.resize((width, height))\n",
    "        else:\n",
    "            img = img.resize((int(width / sf), int(height / sf)))\n",
    "    elif re_type == 'Percent':\n",
    "        percent_c = args[0]\n",
    "        width, height = img.size\n",
    "        if upsize:\n",
    "            img = img.resize((int(width * percent_c), int(height * percent_c)))\n",
    "            img = img.resize((width, height))\n",
    "        else:\n",
    "            img = img.resize((int(width * percent_c), int(height * percent_c)))\n",
    "    else:\n",
    "        img = img.resize(args)\n",
    "    return img\n",
    "def display_detections(list_of_imgs, resize_type, resize_arg, save = True, path = True, visualize = True):\n",
    "    x_coord = []\n",
    "    class_pred = []\n",
    "    for i in list_of_imgs:\n",
    "        count = 0\n",
    "        # load image and get detections\n",
    "        if path:\n",
    "            img_path = i\n",
    "            img = resize_image(img_path, resize_type, resize_arg, upsize = True, path = True)\n",
    "        else:\n",
    "            img = resize_image(i, resize_type, resize_arg, upsize = True, path = False)\n",
    "        prev_time = time.time()\n",
    "        detections = detect_image(img)\n",
    "        inference_time = datetime.timedelta(seconds=time.time() - prev_time)\n",
    "        # print ('Inference Time: %s' % (inference_time))\n",
    "\n",
    "        # Get bounding-box colors\n",
    "        if visualize:\n",
    "            cmap = plt.get_cmap('tab20b')\n",
    "            colors = [cmap(i) for i in np.linspace(0, 1, 20)]\n",
    "\n",
    "            img = np.array(img)\n",
    "            plt.figure()\n",
    "            fig, ax = plt.subplots(1, figsize=(8,9))\n",
    "            ax.imshow(img)\n",
    "\n",
    "            pad_x = max(img.shape[0] - img.shape[1], 0) * (img_size / max(img.shape))\n",
    "            pad_y = max(img.shape[1] - img.shape[0], 0) * (img_size / max(img.shape))\n",
    "            unpad_h = img_size - pad_y\n",
    "            unpad_w = img_size - pad_x\n",
    "\n",
    "        if detections is not None:\n",
    "            unique_labels = detections[:, -1].cpu().unique()\n",
    "            n_cls_preds = len(unique_labels)\n",
    "            if visualize:\n",
    "                bbox_colors = random.sample(colors, n_cls_preds)\n",
    "            # browse detections and draw bounding boxes\n",
    "            for x1, y1, x2, y2, conf, cls_conf, cls_pred in detections:\n",
    "                if visualize:\n",
    "                    box_h = ((y2 - y1) / unpad_h) * img.shape[0]\n",
    "                    box_w = ((x2 - x1) / unpad_w) * img.shape[1]\n",
    "                    y1 = ((y1 - pad_y // 2) / unpad_h) * img.shape[0]\n",
    "                    x1 = ((x1 - pad_x // 2) / unpad_w) * img.shape[1]\n",
    "                    color = bbox_colors[int(np.where(unique_labels == int(cls_pred))[0])]\n",
    "                    bbox = patches.Rectangle((x1, y1), box_w, box_h, linewidth=2, edgecolor=color, facecolor='none')\n",
    "                    ax.add_patch(bbox)\n",
    "                    plt.text(x1, y1, s=classes[int(cls_pred)], color='white', verticalalignment='top', bbox={'color': color, 'pad': 0})\n",
    "                if int(cls_pred) == 47:\n",
    "                    x_coord.append(float(conf))\n",
    "                count += 1\n",
    "                class_pred.append(cls_pred)\n",
    "        if visualize:\n",
    "            plt.axis('off')\n",
    "            plt.show()\n",
    "        # save image\n",
    "        if save:\n",
    "            plt.savefig(img_path.replace(\".jpg\", \"-det.jpg\"), bbox_inches='tight', pad_inches=0.0)\n",
    "    return class_pred, x_coord\n",
    "def reduce_index(list_of_indexes, only_one = False):\n",
    "    res = []\n",
    "    for i in list_of_indexes:\n",
    "        print(i)\n",
    "        img, target = cap[i]\n",
    "        img_to_pil = torchvision.transforms.ToPILImage()\n",
    "        temp = img_to_pil(img)\n",
    "        class_pred, xval = display_detections([temp], 'Scale', 0, save = False, path = False, visualize = False)\n",
    "        if only_one:\n",
    "            if 47 in class_pred and class_pred.count(47) == 1:\n",
    "                res.append(i)\n",
    "        else:\n",
    "            if 47 in class_pred:\n",
    "                res.append(i)\n",
    "    return res\n",
    "def load_pickle():\n",
    "    pickle_in = open(\"coco_dataset_only_apples.pickle\", \"rb\")\n",
    "    new_indexes = pickle.load(pickle_in)\n",
    "    return new_indexes\n",
    "def display_graph(percent_chg, indexes):\n",
    "    %matplotlib inline\n",
    "    per_chg = percent_chg\n",
    "    percentshow = []\n",
    "    print(per_chg)\n",
    "    num_of_imgs = len(indexes)\n",
    "    starttime = time.time()\n",
    "    for pctc in per_chg:\n",
    "        coco_imgs = []\n",
    "        for i in range(num_of_imgs):\n",
    "            img, target = cap[indexes[i]]\n",
    "            img_to_pil = torchvision.transforms.ToPILImage()\n",
    "            temp = img_to_pil(img)\n",
    "            coco_imgs.append(temp)\n",
    "        class_predictions, x_vals = display_detections(coco_imgs, 'Percent', pctc, save = False, path = False, visualize = False)\n",
    "        percentshow.append(len(x_vals) / num_of_imgs)\n",
    "    print(percentshow)\n",
    "    print(num_of_imgs)\n",
    "    print('Runtime: ', time.time() - starttime)\n",
    "    plt.plot(per_chg, percentshow)\n",
    "    return 'Done'"
   ]
  },
  {
   "cell_type": "code",
   "execution_count": 4,
   "metadata": {
    "hide_input": false,
    "scrolled": true
   },
   "outputs": [
    {
     "name": "stdout",
     "output_type": "stream",
     "text": [
      "loading annotations into memory...\n",
      "Done (t=0.46s)\n",
      "creating index...\n",
      "index created!\n",
      "Number of samples:  118287\n",
      "Runtime:  0.6678028106689453\n"
     ]
    },
    {
     "data": {
      "text/plain": [
       "161"
      ]
     },
     "execution_count": 4,
     "metadata": {},
     "output_type": "execute_result"
    }
   ],
   "source": [
    "cap = get_data()\n",
    "new_indexes = load_pickle()\n",
    "len(new_indexes)"
   ]
  },
  {
   "cell_type": "code",
   "execution_count": 5,
   "metadata": {},
   "outputs": [
    {
     "name": "stdout",
     "output_type": "stream",
     "text": [
      "[1.0, 0.98, 0.96, 0.94, 0.92, 0.9, 0.88, 0.86, 0.84, 0.82, 0.8, 0.78, 0.76, 0.74, 0.72, 0.7, 0.68, 0.66, 0.64, 0.62, 0.6, 0.58, 0.56, 0.54, 0.52, 0.5, 0.48, 0.46, 0.44, 0.42, 0.4, 0.38, 0.36, 0.34, 0.32, 0.3, 0.28, 0.26, 0.24, 0.22, 0.2, 0.18, 0.16, 0.14, 0.12, 0.1, 0.08, 0.06, 0.04, 0.02]\n",
      "[1.0, 0.9875776397515528, 0.9813664596273292, 0.9751552795031055, 0.9813664596273292, 1.0, 0.9813664596273292, 0.9751552795031055, 0.968944099378882, 0.9751552795031055, 0.9937888198757764, 0.9813664596273292, 0.9813664596273292, 0.9875776397515528, 0.9875776397515528, 0.968944099378882, 0.9813664596273292, 0.968944099378882, 0.9751552795031055, 0.968944099378882, 0.968944099378882, 0.9565217391304348, 0.9565217391304348, 0.9627329192546584, 0.9627329192546584, 0.9440993788819876, 0.937888198757764, 0.9440993788819876, 0.9192546583850931, 0.9130434782608695, 0.906832298136646, 0.9006211180124224, 0.8881987577639752, 0.8819875776397516, 0.8944099378881988, 0.8633540372670807, 0.8633540372670807, 0.8198757763975155, 0.8074534161490683, 0.7950310559006211, 0.7701863354037267, 0.7018633540372671, 0.6770186335403726, 0.5838509316770186, 0.453416149068323, 0.34782608695652173, 0.18633540372670807, 0.08695652173913043, 0.006211180124223602, 0.0]\n",
      "161\n",
      "Runtime:  187.84783744812012\n"
     ]
    },
    {
     "data": {
      "text/plain": [
       "'Done'"
      ]
     },
     "execution_count": 5,
     "metadata": {},
     "output_type": "execute_result"
    },
    {
     "data": {
      "image/png": "[encoded data removed]",
      "text/plain": [
       "<Figure size 432x288 with 1 Axes>"
      ]
     },
     "metadata": {
      "needs_background": "light"
     },
     "output_type": "display_data"
    }
   ],
   "source": [
    "percent_change = (np.arange(1, 0, -0.02)).round(decimals = 2).tolist()\n",
    "display_graph(percent_change, new_indexes)"
   ]
  }
 ],
 "metadata": {
  "hide_input": false,
  "kernelspec": {
   "display_name": "Python 3",
   "language": "python",
   "name": "python3"
  },
  "language_info": {
   "codemirror_mode": {
    "name": "ipython",
    "version": 3
   },
   "file_extension": ".py",
   "mimetype": "text/x-python",
   "name": "python",
   "nbconvert_exporter": "python",
   "pygments_lexer": "ipython3",
   "version": "3.8.5"
  }
 },
 "nbformat": 4,
 "nbformat_minor": 2
}
